{
  "nbformat": 4,
  "nbformat_minor": 0,
  "metadata": {
    "colab": {
      "provenance": []
    },
    "kernelspec": {
      "name": "python3",
      "display_name": "Python 3"
    },
    "language_info": {
      "name": "python"
    }
  },
  "cells": [
    {
      "cell_type": "code",
      "execution_count": null,
      "metadata": {
        "colab": {
          "base_uri": "https://localhost:8080/"
        },
        "id": "GQR_Se3gXI_T",
        "outputId": "e41b9d6c-e80b-4448-92da-bca172be394f"
      },
      "outputs": [
        {
          "output_type": "stream",
          "name": "stdout",
          "text": [
            "<class 'list'>\n"
          ]
        }
      ],
      "source": [
        "lst=[]\n",
        "print(type(lst))\n"
      ]
    },
    {
      "cell_type": "code",
      "source": [
        "lst.append(\"lily\")\n",
        "lst.append(\"marigold\")\n",
        "lst.append(\"lotus\")\n",
        "lst.append('rose')\n",
        "print(lst)"
      ],
      "metadata": {
        "colab": {
          "base_uri": "https://localhost:8080/"
        },
        "id": "gMOyBYBMXW05",
        "outputId": "666951ea-e87e-42bc-bd7a-eb3bccbb372d"
      },
      "execution_count": null,
      "outputs": [
        {
          "output_type": "stream",
          "name": "stdout",
          "text": [
            "['lily', 'marigold', 'lotus', 'rose']\n"
          ]
        }
      ]
    },
    {
      "cell_type": "code",
      "source": [
        "lst.remove(\"lily\")\n",
        "print(lst)"
      ],
      "metadata": {
        "colab": {
          "base_uri": "https://localhost:8080/"
        },
        "id": "qnn31UgVXo7G",
        "outputId": "745b11f0-6c52-40cc-afa2-a920ea81a180"
      },
      "execution_count": null,
      "outputs": [
        {
          "output_type": "stream",
          "name": "stdout",
          "text": [
            "['marigold', 'lotus', 'rose']\n"
          ]
        }
      ]
    },
    {
      "cell_type": "code",
      "source": [
        "lst.insert(0,\"zendu\")\n",
        "print(lst)"
      ],
      "metadata": {
        "colab": {
          "base_uri": "https://localhost:8080/"
        },
        "id": "_uQ0NumIXvxn",
        "outputId": "26c57851-5c9c-4a11-aa0e-4bee6c75daf2"
      },
      "execution_count": null,
      "outputs": [
        {
          "output_type": "stream",
          "name": "stdout",
          "text": [
            "['zendu', 'marigold', 'lotus', 'rose']\n"
          ]
        }
      ]
    },
    {
      "cell_type": "code",
      "source": [
        "lst.insert(0,\"zendu\")\n",
        "print(lst)"
      ],
      "metadata": {
        "colab": {
          "base_uri": "https://localhost:8080/"
        },
        "id": "pgsLHMdAX2L1",
        "outputId": "d5710dc0-dcb2-43be-e361-124f385c7ff1"
      },
      "execution_count": null,
      "outputs": [
        {
          "output_type": "stream",
          "name": "stdout",
          "text": [
            "['zendu', 'zendu', 'marigold', 'lotus', 'rose']\n"
          ]
        }
      ]
    },
    {
      "cell_type": "code",
      "source": [
        "lst.sort()\n",
        "print(lst)\n"
      ],
      "metadata": {
        "colab": {
          "base_uri": "https://localhost:8080/"
        },
        "id": "qEti9UAFYEb5",
        "outputId": "1c3918a2-2f70-4809-bc25-199703cdc634"
      },
      "execution_count": null,
      "outputs": [
        {
          "output_type": "stream",
          "name": "stdout",
          "text": [
            "['lotus', 'marigold', 'rose', 'zendu', 'zendu']\n"
          ]
        }
      ]
    },
    {
      "cell_type": "code",
      "source": [
        "lst.reverse()\n",
        "print(lst)"
      ],
      "metadata": {
        "colab": {
          "base_uri": "https://localhost:8080/"
        },
        "id": "FY4ufSFeYqV1",
        "outputId": "8ed3d9b2-8058-4004-a1e0-f896ef8ce2a0"
      },
      "execution_count": null,
      "outputs": [
        {
          "output_type": "stream",
          "name": "stdout",
          "text": [
            "['zendu', 'zendu', 'rose', 'marigold', 'lotus']\n"
          ]
        }
      ]
    },
    {
      "cell_type": "code",
      "source": [
        "print(len(lst))\n",
        "print(min(lst))\n",
        "print(max(lst))"
      ],
      "metadata": {
        "colab": {
          "base_uri": "https://localhost:8080/"
        },
        "id": "czbKHoQsY2Hv",
        "outputId": "6f3cba5b-ab74-4ecb-8f10-d2647de37bfc"
      },
      "execution_count": null,
      "outputs": [
        {
          "output_type": "stream",
          "name": "stdout",
          "text": [
            "5\n",
            "lotus\n",
            "zendu\n"
          ]
        }
      ]
    },
    {
      "cell_type": "code",
      "source": [
        "products=['topspeed','milage','maintenance','company','brand']\n",
        "cars=['porsche','mercedes','BMW','Audi']\n",
        "products.extend(cars)\n",
        "print(products)\n",
        "print(products[6])\n",
        "print(cars[2])"
      ],
      "metadata": {
        "colab": {
          "base_uri": "https://localhost:8080/"
        },
        "id": "pFVTBIVMg7Re",
        "outputId": "29e065ef-1776-4bf4-cc59-fd667ebc2b4d"
      },
      "execution_count": 19,
      "outputs": [
        {
          "output_type": "stream",
          "name": "stdout",
          "text": [
            "['topspeed', 'milage', 'maintenance', 'company', 'brand', 'porsche', 'mercedes', 'BMW', 'Audi']\n",
            "mercedes\n",
            "BMW\n"
          ]
        }
      ]
    },
    {
      "cell_type": "code",
      "source": [
        "print(products)\n",
        "print(cars)\n"
      ],
      "metadata": {
        "colab": {
          "base_uri": "https://localhost:8080/"
        },
        "id": "KeDKAYsqh3X1",
        "outputId": "9096f1dd-a79e-4542-f83d-20f509fb5238"
      },
      "execution_count": 21,
      "outputs": [
        {
          "output_type": "stream",
          "name": "stdout",
          "text": [
            "['topspeed', 'milage', 'maintenance', 'company', 'brand', 'porsche', 'mercedes', 'BMW', 'Audi']\n",
            "['porsche', 'mercedes', 'BMW', 'Audi']\n"
          ]
        }
      ]
    },
    {
      "cell_type": "code",
      "source": [
        "print(products[4])\n",
        "print(products[-1])\n",
        "print(products[3:])\n",
        "print(products[:3])\n",
        "print(products[1:6])\n",
        "print(products[::-1])"
      ],
      "metadata": {
        "colab": {
          "base_uri": "https://localhost:8080/"
        },
        "id": "DMHlWY1lk3uD",
        "outputId": "6b61ce80-f5e3-4c5f-d896-34abd92ea159"
      },
      "execution_count": 25,
      "outputs": [
        {
          "output_type": "stream",
          "name": "stdout",
          "text": [
            "brand\n",
            "Audi\n",
            "['company', 'brand', 'porsche', 'mercedes', 'BMW', 'Audi']\n",
            "['topspeed', 'milage', 'maintenance']\n",
            "['milage', 'maintenance', 'company', 'brand', 'porsche']\n",
            "['Audi', 'BMW', 'mercedes', 'porsche', 'brand', 'company', 'maintenance', 'milage', 'topspeed']\n"
          ]
        }
      ]
    },
    {
      "cell_type": "code",
      "source": [
        "products.pop()\n",
        "print(products)"
      ],
      "metadata": {
        "colab": {
          "base_uri": "https://localhost:8080/"
        },
        "id": "9uz_j9AplsVe",
        "outputId": "c109a476-6292-4f25-a6b9-0ceb93298330"
      },
      "execution_count": 31,
      "outputs": [
        {
          "output_type": "stream",
          "name": "stdout",
          "text": [
            "['topspeed', 'milage', 'maintenance']\n"
          ]
        }
      ]
    },
    {
      "cell_type": "code",
      "source": [
        "products.clear()\n",
        "print(products)"
      ],
      "metadata": {
        "colab": {
          "base_uri": "https://localhost:8080/"
        },
        "id": "E9w0bx9amFZq",
        "outputId": "f2b3efab-6324-4f35-a361-88ee4ace7879"
      },
      "execution_count": 32,
      "outputs": [
        {
          "output_type": "stream",
          "name": "stdout",
          "text": [
            "[]\n"
          ]
        }
      ]
    },
    {
      "cell_type": "code",
      "source": [
        "lst12=['rohan',23,True,23.455]\n",
        "print(lst12)"
      ],
      "metadata": {
        "colab": {
          "base_uri": "https://localhost:8080/"
        },
        "id": "wMPj0hoomL8z",
        "outputId": "4cac11d7-d41b-4029-e9e6-3a7f947583e6"
      },
      "execution_count": 33,
      "outputs": [
        {
          "output_type": "stream",
          "name": "stdout",
          "text": [
            "['rohan', 23, True, 23.455]\n"
          ]
        }
      ]
    },
    {
      "cell_type": "code",
      "source": [
        "councities=['India','America','south Africa','japan',['delhi','Washington','Cape Town','Tokyo ']]\n",
        "print(councities)"
      ],
      "metadata": {
        "colab": {
          "base_uri": "https://localhost:8080/"
        },
        "id": "tZ9jZCfCoKd5",
        "outputId": "21e474f9-faf5-4e54-d583-4830c3397dec"
      },
      "execution_count": 35,
      "outputs": [
        {
          "output_type": "stream",
          "name": "stdout",
          "text": [
            "['India', 'America', 'south Africa', 'japan', ['delhi', 'Washington', 'Cape Town', 'Tokyo ']]\n"
          ]
        }
      ]
    },
    {
      "cell_type": "code",
      "source": [
        "from typing import Counter\n",
        "print(councities[2])\n",
        "print(councities[4][2])\n",
        "councities.append(\"australia\")\n",
        "print(councities)\n"
      ],
      "metadata": {
        "colab": {
          "base_uri": "https://localhost:8080/"
        },
        "id": "PYwL8kcno2vR",
        "outputId": "eacc033e-708b-40b1-bdd3-5820d6066cfa"
      },
      "execution_count": 37,
      "outputs": [
        {
          "output_type": "stream",
          "name": "stdout",
          "text": [
            "south Africa\n",
            "Cape Town\n",
            "['India', 'America', 'south Africa', 'japan', ['delhi', 'Washington', 'Cape Town', 'Tokyo '], 'australia']\n"
          ]
        }
      ]
    },
    {
      "cell_type": "code",
      "source": [
        "councities[4].append(\"Canberra\")\n",
        "print(councities)"
      ],
      "metadata": {
        "colab": {
          "base_uri": "https://localhost:8080/"
        },
        "id": "ods-Di2VpU7s",
        "outputId": "f059c651-bdd6-468c-fd5f-c5e897df9f4b"
      },
      "execution_count": 38,
      "outputs": [
        {
          "output_type": "stream",
          "name": "stdout",
          "text": [
            "['India', 'America', 'south Africa', 'japan', ['delhi', 'Washington', 'Cape Town', 'Tokyo ', 'Canberra'], 'australia']\n"
          ]
        }
      ]
    },
    {
      "cell_type": "code",
      "source": [
        "movgen=['pk','john wick','stree2','gyaraah gyaraah',['comedy','action','horrer','thriller']]\n",
        "print(movgen)\n"
      ],
      "metadata": {
        "colab": {
          "base_uri": "https://localhost:8080/"
        },
        "id": "f5dlcZPYpnK_",
        "outputId": "5116761e-b9b0-4c10-9019-71291c625dd7"
      },
      "execution_count": 39,
      "outputs": [
        {
          "output_type": "stream",
          "name": "stdout",
          "text": [
            "['pk', 'john wick', 'stree2', 'gyaraah gyaraah', ['comedy', 'action', 'horrer', 'thriller']]\n"
          ]
        }
      ]
    },
    {
      "cell_type": "code",
      "source": [
        "movgen.insert(4,\"jab we met\")\n",
        "print(movgen)"
      ],
      "metadata": {
        "colab": {
          "base_uri": "https://localhost:8080/"
        },
        "id": "TaM1d1PFqZG4",
        "outputId": "10afd60d-a7a9-4a60-cbfa-6fe56a8ffc48"
      },
      "execution_count": 40,
      "outputs": [
        {
          "output_type": "stream",
          "name": "stdout",
          "text": [
            "['pk', 'john wick', 'stree2', 'gyaraah gyaraah', 'jab we met', ['comedy', 'action', 'horrer', 'thriller']]\n"
          ]
        }
      ]
    },
    {
      "cell_type": "code",
      "source": [
        "movgen.insert(1,\"golmaal\")\n",
        "print(movgen)"
      ],
      "metadata": {
        "colab": {
          "base_uri": "https://localhost:8080/"
        },
        "id": "E9O1zSgEqguT",
        "outputId": "7b9110fb-707a-49b4-b3ef-0210f93652c6"
      },
      "execution_count": 41,
      "outputs": [
        {
          "output_type": "stream",
          "name": "stdout",
          "text": [
            "['pk', 'golmaal', 'john wick', 'stree2', 'gyaraah gyaraah', 'jab we met', ['comedy', 'action', 'horrer', 'thriller']]\n"
          ]
        }
      ]
    },
    {
      "cell_type": "code",
      "source": [
        "movgen[6].insert(1,\"comedy-action\")\n",
        "print(movgen)"
      ],
      "metadata": {
        "colab": {
          "base_uri": "https://localhost:8080/"
        },
        "id": "QRcEGiLrq61o",
        "outputId": "e235f29c-d005-43fa-ebf3-f9b8d4b990bb"
      },
      "execution_count": 42,
      "outputs": [
        {
          "output_type": "stream",
          "name": "stdout",
          "text": [
            "['pk', 'golmaal', 'john wick', 'stree2', 'gyaraah gyaraah', 'jab we met', ['comedy', 'comedy-action', 'action', 'horrer', 'thriller']]\n"
          ]
        }
      ]
    },
    {
      "cell_type": "code",
      "source": [
        "movgen[6].append(\"romantic\")\n",
        "print(movgen)"
      ],
      "metadata": {
        "colab": {
          "base_uri": "https://localhost:8080/"
        },
        "id": "D_b89uOwrMFY",
        "outputId": "15a69327-5d42-4e87-abaa-b69645f62ef8"
      },
      "execution_count": 44,
      "outputs": [
        {
          "output_type": "stream",
          "name": "stdout",
          "text": [
            "['pk', 'golmaal', 'john wick', 'stree2', 'gyaraah gyaraah', 'jab we met', ['comedy', 'comedy-action', 'action', 'horrer', 'thriller', 'romantic', 'romantic']]\n"
          ]
        }
      ]
    },
    {
      "cell_type": "code",
      "source": [
        "print(movgen[6])\n",
        "len(movgen[6])"
      ],
      "metadata": {
        "colab": {
          "base_uri": "https://localhost:8080/"
        },
        "id": "MtdvrT-Irouk",
        "outputId": "1a830a75-f759-46da-e0fb-8294181c00af"
      },
      "execution_count": 50,
      "outputs": [
        {
          "output_type": "stream",
          "name": "stdout",
          "text": [
            "['comedy', 'comedy-action', 'action', 'horrer', 'thriller', 'romantic', 'romantic']\n"
          ]
        },
        {
          "output_type": "execute_result",
          "data": {
            "text/plain": [
              "7"
            ]
          },
          "metadata": {},
          "execution_count": 50
        }
      ]
    },
    {
      "cell_type": "code",
      "source": [
        "for mov in movgen:\n",
        "  print(mov)"
      ],
      "metadata": {
        "colab": {
          "base_uri": "https://localhost:8080/"
        },
        "id": "OjQY19glsbLv",
        "outputId": "e13ff1f0-4be3-4db3-ab3e-336ed3b33df6"
      },
      "execution_count": 53,
      "outputs": [
        {
          "output_type": "stream",
          "name": "stdout",
          "text": [
            "pk\n",
            "golmaal\n",
            "john wick\n",
            "stree2\n",
            "gyaraah gyaraah\n",
            "jab we met\n",
            "['comedy', 'comedy-action', 'action', 'horrer', 'thriller', 'romantic', 'romantic']\n"
          ]
        }
      ]
    },
    {
      "cell_type": "code",
      "source": [
        "for gen in movgen[6]:\n",
        "  print(gen)"
      ],
      "metadata": {
        "colab": {
          "base_uri": "https://localhost:8080/"
        },
        "id": "PalJb40Fsref",
        "outputId": "247ad054-98d0-4b08-fa2f-4a327de468b1"
      },
      "execution_count": 55,
      "outputs": [
        {
          "output_type": "stream",
          "name": "stdout",
          "text": [
            "comedy\n",
            "comedy-action\n",
            "action\n",
            "horrer\n",
            "thriller\n",
            "romantic\n",
            "romantic\n"
          ]
        }
      ]
    },
    {
      "cell_type": "code",
      "source": [
        "genre=0\n",
        "while(genre<len(movgen)):\n",
        "  print(movgen[genre])\n",
        "  genre+=1"
      ],
      "metadata": {
        "colab": {
          "base_uri": "https://localhost:8080/"
        },
        "id": "VwApwCNjs-xe",
        "outputId": "269222a1-2786-4263-d78e-f05c4c883f02"
      },
      "execution_count": 56,
      "outputs": [
        {
          "output_type": "stream",
          "name": "stdout",
          "text": [
            "pk\n",
            "golmaal\n",
            "john wick\n",
            "stree2\n",
            "gyaraah gyaraah\n",
            "jab we met\n",
            "['comedy', 'comedy-action', 'action', 'horrer', 'thriller', 'romantic', 'romantic']\n"
          ]
        }
      ]
    },
    {
      "cell_type": "code",
      "source": [
        "genre2=0\n",
        "while(genre2<len(movgen[6])):\n",
        "  print(movgen[6][genre2])\n",
        "  genre2+=1"
      ],
      "metadata": {
        "colab": {
          "base_uri": "https://localhost:8080/"
        },
        "id": "bHJapDrltt6p",
        "outputId": "19e0519c-e2a6-4134-87da-041db02a2390"
      },
      "execution_count": 61,
      "outputs": [
        {
          "output_type": "stream",
          "name": "stdout",
          "text": [
            "comedy\n",
            "comedy-action\n",
            "action\n",
            "horrer\n",
            "thriller\n",
            "romantic\n",
            "romantic\n"
          ]
        }
      ]
    },
    {
      "cell_type": "code",
      "source": [
        "num=[1,2,3,4,5]\n",
        "num.copy()\n",
        "print(num.copy())\n",
        "len(num.copy())"
      ],
      "metadata": {
        "colab": {
          "base_uri": "https://localhost:8080/"
        },
        "id": "edddvi9uyYF1",
        "outputId": "896f61f4-3fc9-4064-e886-55452c2ddbb0"
      },
      "execution_count": 67,
      "outputs": [
        {
          "output_type": "stream",
          "name": "stdout",
          "text": [
            "[1, 2, 3, 4, 5]\n"
          ]
        },
        {
          "output_type": "execute_result",
          "data": {
            "text/plain": [
              "5"
            ]
          },
          "metadata": {},
          "execution_count": 67
        }
      ]
    },
    {
      "cell_type": "code",
      "source": [
        "num2=[1,2,3,4,5,6,7,8,9]\n",
        "sum(num2)\n"
      ],
      "metadata": {
        "colab": {
          "base_uri": "https://localhost:8080/"
        },
        "id": "3E8xydtFzDTG",
        "outputId": "234237e8-b4ff-4508-c81d-0de108fb8b49"
      },
      "execution_count": 71,
      "outputs": [
        {
          "output_type": "execute_result",
          "data": {
            "text/plain": [
              "1"
            ]
          },
          "metadata": {},
          "execution_count": 71
        }
      ]
    },
    {
      "cell_type": "code",
      "source": [
        "mob=['realme 5i','redmi note10','samsung s23','realme 5i']\n",
        "mob.count('realme 5i')\n"
      ],
      "metadata": {
        "colab": {
          "base_uri": "https://localhost:8080/"
        },
        "id": "hv0H5DSyzlHA",
        "outputId": "ac660e1d-f938-4b63-8361-bdec61fa40e7"
      },
      "execution_count": 75,
      "outputs": [
        {
          "output_type": "execute_result",
          "data": {
            "text/plain": [
              "2"
            ]
          },
          "metadata": {},
          "execution_count": 75
        }
      ]
    },
    {
      "cell_type": "code",
      "source": [
        "names = ['Alice', 'Bob', 'Charlie']\n",
        "ages = [25, 30, 35]\n",
        "zipped = zip(names, ages)\n",
        "\n",
        "print(list(zipped))"
      ],
      "metadata": {
        "colab": {
          "base_uri": "https://localhost:8080/"
        },
        "id": "hZQuJG8h1Qow",
        "outputId": "dd18a3aa-e2aa-4d3b-fcf5-61e2f9f010db"
      },
      "execution_count": 76,
      "outputs": [
        {
          "output_type": "stream",
          "name": "stdout",
          "text": [
            "[('Alice', 25), ('Bob', 30), ('Charlie', 35)]\n"
          ]
        }
      ]
    }
  ]
}