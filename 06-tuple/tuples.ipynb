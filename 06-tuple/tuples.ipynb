{
  "cells": [
    {
      "cell_type": "code",
      "execution_count": 1,
      "metadata": {
        "colab": {
          "base_uri": "https://localhost:8080/"
        },
        "id": "Vrx9vGp-2qyx",
        "outputId": "a3c02183-2f95-4b5f-eeb8-74eee53446e1"
      },
      "outputs": [
        {
          "name": "stdout",
          "output_type": "stream",
          "text": [
            "<class 'tuple'>\n"
          ]
        }
      ],
      "source": [
        "#tuple\n",
        "#1.Ordered but immutable collection of elements.\n",
        "#2.Elements cannot be changed, added, or removed after creation.\n",
        "#3.Can store different data types and is accessed by index.\n",
        "#4.Created using parentheses ().\n",
        "#5.Used for data that should remain constant, offering faster performance than lists.\n",
        "\n",
        "tp=()\n",
        "print(type(tp))\n"
      ]
    },
    {
      "cell_type": "code",
      "execution_count": 5,
      "metadata": {
        "colab": {
          "base_uri": "https://localhost:8080/"
        },
        "id": "NTZA7mD_PFEI",
        "outputId": "152bab6e-1b82-45dd-df84-6d837290eb28"
      },
      "outputs": [
        {
          "name": "stdout",
          "output_type": "stream",
          "text": [
            "(' rohan', 'rahul', 'om')\n"
          ]
        }
      ],
      "source": [
        "tp=(' rohan','rahul','om')\n",
        "print(tp)\n"
      ]
    },
    {
      "cell_type": "code",
      "execution_count": 8,
      "metadata": {
        "colab": {
          "base_uri": "https://localhost:8080/",
          "height": 35
        },
        "id": "WUmK46A2PeYc",
        "outputId": "70939344-6067-4461-d9b7-d3ff6d7c12c7"
      },
      "outputs": [
        {
          "data": {
            "application/vnd.google.colaboratory.intrinsic+json": {
              "type": "string"
            },
            "text/plain": [
              "'rahul'"
            ]
          },
          "execution_count": 8,
          "metadata": {},
          "output_type": "execute_result"
        }
      ],
      "source": [
        "len(tp)\n"
      ]
    },
    {
      "cell_type": "code",
      "execution_count": 9,
      "metadata": {
        "colab": {
          "base_uri": "https://localhost:8080/",
          "height": 35
        },
        "id": "YU0V3579Plp7",
        "outputId": "4fc80f03-2ca9-418e-fc80-b04ae4ccd80b"
      },
      "outputs": [
        {
          "data": {
            "application/vnd.google.colaboratory.intrinsic+json": {
              "type": "string"
            },
            "text/plain": [
              "'rahul'"
            ]
          },
          "execution_count": 9,
          "metadata": {},
          "output_type": "execute_result"
        }
      ],
      "source": [
        "max(tp)"
      ]
    },
    {
      "cell_type": "code",
      "execution_count": 10,
      "metadata": {
        "colab": {
          "base_uri": "https://localhost:8080/",
          "height": 35
        },
        "id": "s0I34rATPmfU",
        "outputId": "d967b288-0bc7-4fd2-a72f-c01f98f09de5"
      },
      "outputs": [
        {
          "data": {
            "application/vnd.google.colaboratory.intrinsic+json": {
              "type": "string"
            },
            "text/plain": [
              "' rohan'"
            ]
          },
          "execution_count": 10,
          "metadata": {},
          "output_type": "execute_result"
        }
      ],
      "source": [
        "min(tp)"
      ]
    },
    {
      "cell_type": "code",
      "execution_count": 11,
      "metadata": {
        "colab": {
          "base_uri": "https://localhost:8080/"
        },
        "id": "0us58-4uPrBY",
        "outputId": "a5949425-ef90-4819-98aa-e1b6a1787bf5"
      },
      "outputs": [
        {
          "name": "stdout",
          "output_type": "stream",
          "text": [
            "hp\n",
            "('hp', 'lenevo', 'asus', 'victus', 'aser', 'macbook', 'chromebook')\n",
            "('dell',)\n",
            "('chromebook', 'macbook', 'aser', 'victus', 'asus', 'lenevo', 'hp', 'dell')\n",
            "('hp', 'lenevo', 'asus', 'victus')\n",
            "chromebook\n"
          ]
        }
      ],
      "source": [
        "lapi=('dell','hp','lenevo','asus','victus','aser','macbook','chromebook')\n",
        "print(lapi[1])\n",
        "print(lapi[1:])\n",
        "print(lapi[:1])\n",
        "print(lapi[::-1])\n",
        "print(lapi[1:5])\n",
        "print(lapi[-1])"
      ]
    },
    {
      "cell_type": "code",
      "execution_count": 12,
      "metadata": {
        "colab": {
          "base_uri": "https://localhost:8080/",
          "height": 141
        },
        "id": "9xNDZXrwQYG8",
        "outputId": "58d87431-ddb5-4da5-e497-24e1d0682493"
      },
      "outputs": [
        {
          "ename": "AttributeError",
          "evalue": "'tuple' object has no attribute 'append'",
          "output_type": "error",
          "traceback": [
            "\u001b[0;31m---------------------------------------------------------------------------\u001b[0m",
            "\u001b[0;31mAttributeError\u001b[0m                            Traceback (most recent call last)",
            "\u001b[0;32m<ipython-input-12-533cbe85257a>\u001b[0m in \u001b[0;36m<cell line: 1>\u001b[0;34m()\u001b[0m\n\u001b[0;32m----> 1\u001b[0;31m \u001b[0mlapi\u001b[0m\u001b[0;34m.\u001b[0m\u001b[0mappend\u001b[0m\u001b[0;34m(\u001b[0m\u001b[0;34m\"viewbook\"\u001b[0m\u001b[0;34m)\u001b[0m\u001b[0;34m\u001b[0m\u001b[0;34m\u001b[0m\u001b[0m\n\u001b[0m",
            "\u001b[0;31mAttributeError\u001b[0m: 'tuple' object has no attribute 'append'"
          ]
        }
      ],
      "source": [
        "lapi.append(\"viewbook\")\n"
      ]
    },
    {
      "cell_type": "code",
      "execution_count": 13,
      "metadata": {
        "colab": {
          "base_uri": "https://localhost:8080/",
          "height": 141
        },
        "id": "k3dprD2CQhWN",
        "outputId": "8b909691-b6e5-41e3-d473-c8a79bf55f89"
      },
      "outputs": [
        {
          "ename": "AttributeError",
          "evalue": "'tuple' object has no attribute 'insert'",
          "output_type": "error",
          "traceback": [
            "\u001b[0;31m---------------------------------------------------------------------------\u001b[0m",
            "\u001b[0;31mAttributeError\u001b[0m                            Traceback (most recent call last)",
            "\u001b[0;32m<ipython-input-13-b32ce473345d>\u001b[0m in \u001b[0;36m<cell line: 1>\u001b[0;34m()\u001b[0m\n\u001b[0;32m----> 1\u001b[0;31m \u001b[0mlapi\u001b[0m\u001b[0;34m.\u001b[0m\u001b[0minsert\u001b[0m\u001b[0;34m(\u001b[0m\u001b[0;36m1\u001b[0m\u001b[0;34m,\u001b[0m\u001b[0;34m\"viewbook\"\u001b[0m\u001b[0;34m)\u001b[0m\u001b[0;34m\u001b[0m\u001b[0;34m\u001b[0m\u001b[0m\n\u001b[0m",
            "\u001b[0;31mAttributeError\u001b[0m: 'tuple' object has no attribute 'insert'"
          ]
        }
      ],
      "source": [
        "lapi.insert(1,\"viewbook\")"
      ]
    },
    {
      "cell_type": "code",
      "execution_count": 14,
      "metadata": {
        "colab": {
          "base_uri": "https://localhost:8080/",
          "height": 141
        },
        "id": "cGQQkd1hQnJf",
        "outputId": "d711c98b-cb17-4382-ebe6-9637e3514d0a"
      },
      "outputs": [
        {
          "ename": "AttributeError",
          "evalue": "'tuple' object has no attribute 'remove'",
          "output_type": "error",
          "traceback": [
            "\u001b[0;31m---------------------------------------------------------------------------\u001b[0m",
            "\u001b[0;31mAttributeError\u001b[0m                            Traceback (most recent call last)",
            "\u001b[0;32m<ipython-input-14-439612038e78>\u001b[0m in \u001b[0;36m<cell line: 1>\u001b[0;34m()\u001b[0m\n\u001b[0;32m----> 1\u001b[0;31m \u001b[0mlapi\u001b[0m\u001b[0;34m.\u001b[0m\u001b[0mremove\u001b[0m\u001b[0;34m(\u001b[0m\u001b[0;34m\"macbook\"\u001b[0m\u001b[0;34m)\u001b[0m\u001b[0;34m\u001b[0m\u001b[0;34m\u001b[0m\u001b[0m\n\u001b[0m",
            "\u001b[0;31mAttributeError\u001b[0m: 'tuple' object has no attribute 'remove'"
          ]
        }
      ],
      "source": [
        "lapi.remove(\"macbook\")"
      ]
    },
    {
      "cell_type": "code",
      "execution_count": 15,
      "metadata": {
        "colab": {
          "base_uri": "https://localhost:8080/"
        },
        "id": "Q7Lj6mXAQrcd",
        "outputId": "7e1feca4-67c5-48fd-98e3-00526c8de37b"
      },
      "outputs": [
        {
          "data": {
            "text/plain": [
              "2"
            ]
          },
          "execution_count": 15,
          "metadata": {},
          "output_type": "execute_result"
        }
      ],
      "source": [
        "nm=(1,2,3,4,5,5,6,6,2,1,3,8)\n",
        "nm.count(1)"
      ]
    },
    {
      "cell_type": "code",
      "execution_count": 16,
      "metadata": {
        "colab": {
          "base_uri": "https://localhost:8080/"
        },
        "id": "ghAiAnJSQ4e0",
        "outputId": "8a40b8d4-674f-4432-c52e-67a71e3f33d7"
      },
      "outputs": [
        {
          "name": "stdout",
          "output_type": "stream",
          "text": [
            "(1, 1.23, False, 'rohan')\n"
          ]
        }
      ],
      "source": [
        "tupl=(1,1.23,False,'rohan')\n",
        "print(tupl)\n"
      ]
    },
    {
      "cell_type": "code",
      "execution_count": 18,
      "metadata": {
        "colab": {
          "base_uri": "https://localhost:8080/"
        },
        "id": "_4jP2hsJRHKb",
        "outputId": "a67b9ff5-e1e9-48be-9dd1-0a217daf638e"
      },
      "outputs": [
        {
          "name": "stdout",
          "output_type": "stream",
          "text": [
            "('laptop', 'charger', 'mouse', 'keyboard', 'printer', (2, 3, 2, 1, 1))\n"
          ]
        }
      ],
      "source": [
        "products=('laptop','charger','mouse','keyboard','printer',(2,3,2,1,1))\n",
        "print(products)"
      ]
    },
    {
      "cell_type": "code",
      "execution_count": 19,
      "metadata": {
        "colab": {
          "base_uri": "https://localhost:8080/"
        },
        "id": "HvX46rfNRlXz",
        "outputId": "aef485f9-1c2a-4874-a1e8-4807dd86b354"
      },
      "outputs": [
        {
          "name": "stdout",
          "output_type": "stream",
          "text": [
            "laptop\n",
            "2\n"
          ]
        }
      ],
      "source": [
        "print(products[0])\n",
        "print(products[5][2])"
      ]
    },
    {
      "cell_type": "code",
      "execution_count": 20,
      "metadata": {
        "colab": {
          "base_uri": "https://localhost:8080/"
        },
        "id": "AEqTsGa-Rxb2",
        "outputId": "0c70a30c-19a4-4b09-8b9e-f68bf612331c"
      },
      "outputs": [
        {
          "name": "stdout",
          "output_type": "stream",
          "text": [
            "('mango', 'banana', 'apple', 'orange', ['two mango', 'one banana', 'three apple'])\n"
          ]
        }
      ],
      "source": [
        "fruits=('mango','banana','apple','orange',['two mango','one banana','three apple'])\n",
        "print(fruits)"
      ]
    },
    {
      "cell_type": "code",
      "execution_count": 21,
      "metadata": {
        "colab": {
          "base_uri": "https://localhost:8080/",
          "height": 141
        },
        "id": "ioR8JNUHSF1C",
        "outputId": "597af7ce-93f4-4c9e-b0f8-7a5da66f270a"
      },
      "outputs": [
        {
          "ename": "AttributeError",
          "evalue": "'tuple' object has no attribute 'append'",
          "output_type": "error",
          "traceback": [
            "\u001b[0;31m---------------------------------------------------------------------------\u001b[0m",
            "\u001b[0;31mAttributeError\u001b[0m                            Traceback (most recent call last)",
            "\u001b[0;32m<ipython-input-21-81196c0fd6a4>\u001b[0m in \u001b[0;36m<cell line: 1>\u001b[0;34m()\u001b[0m\n\u001b[0;32m----> 1\u001b[0;31m \u001b[0mfruits\u001b[0m\u001b[0;34m.\u001b[0m\u001b[0mappend\u001b[0m\u001b[0;34m(\u001b[0m\u001b[0;34m\"grapes\"\u001b[0m\u001b[0;34m)\u001b[0m\u001b[0;34m\u001b[0m\u001b[0;34m\u001b[0m\u001b[0m\n\u001b[0m",
            "\u001b[0;31mAttributeError\u001b[0m: 'tuple' object has no attribute 'append'"
          ]
        }
      ],
      "source": [
        "fruits.append(\"grapes\")"
      ]
    },
    {
      "cell_type": "code",
      "execution_count": 22,
      "metadata": {
        "colab": {
          "base_uri": "https://localhost:8080/"
        },
        "id": "lw7jJuFNSKcM",
        "outputId": "9e3e5bdb-be1e-41dd-acc3-3c7f8e2e4c99"
      },
      "outputs": [
        {
          "name": "stdout",
          "output_type": "stream",
          "text": [
            "('mango', 'banana', 'apple', 'orange', ['two mango', 'one banana', 'three apple', 'one grapes'])\n"
          ]
        }
      ],
      "source": [
        "fruits[4].append(\"one grapes\")\n",
        "print(fruits)"
      ]
    },
    {
      "cell_type": "code",
      "execution_count": 23,
      "metadata": {
        "colab": {
          "base_uri": "https://localhost:8080/"
        },
        "id": "LI4KJjjBSVIL",
        "outputId": "23feca11-0364-4790-cef8-f467e7d506e4"
      },
      "outputs": [
        {
          "name": "stdout",
          "output_type": "stream",
          "text": [
            "('mango', 'banana', 'apple', 'orange', ['two mango', '4 cheery', 'one banana', 'three apple', 'one grapes'])\n"
          ]
        }
      ],
      "source": [
        "fruits[4].insert(1,\"4 cheery\")\n",
        "print(fruits)"
      ]
    },
    {
      "cell_type": "code",
      "execution_count": 24,
      "metadata": {
        "colab": {
          "base_uri": "https://localhost:8080/"
        },
        "id": "6gub0FrOShIC",
        "outputId": "2b3debe5-5416-4226-9e67-397264eaaac8"
      },
      "outputs": [
        {
          "name": "stdout",
          "output_type": "stream",
          "text": [
            "('mango', 'banana', 'apple', 'orange', ['two mango', '4 cheery', 'one banana', 'three apple'])\n"
          ]
        }
      ],
      "source": [
        "fruits[4].remove(\"one grapes\")\n",
        "print(fruits)"
      ]
    },
    {
      "cell_type": "code",
      "execution_count": 25,
      "metadata": {
        "colab": {
          "base_uri": "https://localhost:8080/"
        },
        "id": "YUT_dI30S1sk",
        "outputId": "3afe8dd2-50f1-40db-b626-6f275eedd563"
      },
      "outputs": [
        {
          "name": "stdout",
          "output_type": "stream",
          "text": [
            "(1, 2, 3, 4, 5, 7, 8, 9, 0, 1)\n"
          ]
        }
      ],
      "source": [
        "lst1=(1,2,3,4,5)\n",
        "lst2=(7,8,9,0,1)\n",
        "lst3=lst1+lst2\n",
        "print(lst3)"
      ]
    }
  ],
  "metadata": {
    "colab": {
      "provenance": []
    },
    "kernelspec": {
      "display_name": "Python 3",
      "name": "python3"
    },
    "language_info": {
      "name": "python"
    }
  },
  "nbformat": 4,
  "nbformat_minor": 0
}
