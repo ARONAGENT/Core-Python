{
  "nbformat": 4,
  "nbformat_minor": 0,
  "metadata": {
    "colab": {
      "provenance": []
    },
    "kernelspec": {
      "name": "python3",
      "display_name": "Python 3"
    },
    "language_info": {
      "name": "python"
    }
  },
  "cells": [
    {
      "cell_type": "markdown",
      "source": [
        "# Python -I/O Operations\n",
        "***In Python, print() and input() are two fundamental functions used for output and input operations.***\n",
        "\n",
        "**print() Function :**\n",
        "Purpose: It outputs data to the console or terminal.\n",
        "\n",
        "Syntax: print(*objects, sep=' ', end='\\n', file=sys.stdout, flush=False)\n",
        "\n",
        "**input() Function :**\n",
        "Purpose: It takes input from the user via the keyboard. The input is always returned as a string.\n",
        "Syntax: input(prompt)\n"
      ],
      "metadata": {
        "id": "RZ5ZUvP7erER"
      }
    },
    {
      "cell_type": "code",
      "execution_count": 2,
      "metadata": {
        "colab": {
          "base_uri": "https://localhost:8080/"
        },
        "id": "e-p2SireeoQF",
        "outputId": "bec060ac-76c2-4747-e251-95f1e467b553"
      },
      "outputs": [
        {
          "output_type": "stream",
          "name": "stdout",
          "text": [
            "Enter Your name :Rohan\n",
            "Your name is Rohan\n",
            "Your name is Rohan\n",
            "Your name is Rohan\n",
            "Your name is Rohan\n",
            "Your name is Rohan\n"
          ]
        }
      ],
      "source": [
        "nm=input(\"Enter Your name :\")\n",
        "print(\"Your name is \"+nm)\n",
        "print(\"Your name is\",nm)\n",
        "print(\"Your name is %s\"%nm)\n",
        "print(f\"Your name is {nm}\")\n",
        "print(\"Your name is {}\".format(nm))\n"
      ]
    },
    {
      "cell_type": "code",
      "source": [
        "name=input(\"enter ur name :\")\n",
        "age=int(input(\"enter age :\"))\n",
        "print(\"your name is {} and age is {}\".format(name,age))\n",
        "print(\"your name is %s and age is %d\"%(name,age))\n"
      ],
      "metadata": {
        "colab": {
          "base_uri": "https://localhost:8080/"
        },
        "id": "KB12mbJlYLL7",
        "outputId": "c27baa6c-3fd3-4499-b18e-693f2318f742"
      },
      "execution_count": 4,
      "outputs": [
        {
          "output_type": "stream",
          "name": "stdout",
          "text": [
            "enter ur name :Rohan\n",
            "enter age :19\n",
            "your name is Rohan and age is 19\n",
            "your name is Rohan and age is 19\n"
          ]
        }
      ]
    },
    {
      "cell_type": "code",
      "source": [
        "nm=input(\"Enter name :\")\n",
        "age=int(input(\"Enter Age :\"))\n",
        "# Format specifiers\n",
        "print(\"your name is %s and age is %d\"%(nm,age))\n",
        "\n",
        "\n",
        "\n",
        "#1.Positional Arguments: You can use positional arguments to specify the order in\n",
        "#which values are inserted into the string.\n",
        "print('your name is {0} and age is {1}'.format(nm,age))\n",
        "\n",
        "\n",
        "\n",
        "#2.Named Arguments: You can use named arguments to specify which value\n",
        "# corresponds to which placeholder using the format {name}\n",
        "print(f'your name is {nm} and age is {age}'.format(nm,age))"
      ],
      "metadata": {
        "colab": {
          "base_uri": "https://localhost:8080/"
        },
        "id": "tJwRsjG-pvQa",
        "outputId": "51c6d755-f85f-4b5d-ff81-591a119791d6"
      },
      "execution_count": 7,
      "outputs": [
        {
          "output_type": "stream",
          "name": "stdout",
          "text": [
            "Enter name :Rahul\n",
            "Enter Age :23\n",
            "your name is Rahul and age is 23\n",
            "your name is Rahul and age is 23\n",
            "your name is Rahul and age is 23\n"
          ]
        }
      ]
    },
    {
      "cell_type": "code",
      "source": [
        "#Format Codes: Format codes can be used to control the formatting of values,\n",
        "#such as specifying the number of decimal places for floating-point numbers,\n",
        "#formatting dates, and more. Format codes are introduced by a colon :.\n",
        "# here {:.4f }means it take decimal value upto 4 digit\n",
        "pi = 3.14159265359\n",
        "formatted_pi = \"Value of pi: {:.4f}\".format(pi)\n",
        "print(formatted_pi)"
      ],
      "metadata": {
        "colab": {
          "base_uri": "https://localhost:8080/"
        },
        "id": "xvYt918DrjpR",
        "outputId": "f7e142e5-3226-46b3-8e79-49e00c188b71"
      },
      "execution_count": 8,
      "outputs": [
        {
          "output_type": "stream",
          "name": "stdout",
          "text": [
            "Value of pi: 3.1416\n"
          ]
        }
      ]
    }
  ]
}