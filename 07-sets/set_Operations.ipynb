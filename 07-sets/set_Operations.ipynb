{
  "nbformat": 4,
  "nbformat_minor": 0,
  "metadata": {
    "colab": {
      "provenance": []
    },
    "kernelspec": {
      "name": "python3",
      "display_name": "Python 3"
    },
    "language_info": {
      "name": "python"
    }
  },
  "cells": [
    {
      "cell_type": "code",
      "execution_count": 1,
      "metadata": {
        "id": "F3mLy_raXeGR"
      },
      "outputs": [],
      "source": [
        "planets={'mercury','venus','earth','mars','jupiter','saturn','uranus'}\n",
        "stars={'sun','moon','stephen2-18','uranus','earth','venus'}\n"
      ]
    },
    {
      "cell_type": "markdown",
      "source": [
        "# Union Operation- Combine both the sets"
      ],
      "metadata": {
        "id": "hsngm5EgYL74"
      }
    },
    {
      "cell_type": "code",
      "source": [
        "planets.union(stars)"
      ],
      "metadata": {
        "colab": {
          "base_uri": "https://localhost:8080/"
        },
        "id": "a-YMFSYuYB2Z",
        "outputId": "04a53edc-0af3-4a69-fa93-7ff28f00f797"
      },
      "execution_count": 2,
      "outputs": [
        {
          "output_type": "execute_result",
          "data": {
            "text/plain": [
              "{'earth',\n",
              " 'jupiter',\n",
              " 'mars',\n",
              " 'mercury',\n",
              " 'moon',\n",
              " 'saturn',\n",
              " 'stephen2-18',\n",
              " 'sun',\n",
              " 'uranus',\n",
              " 'venus'}"
            ]
          },
          "metadata": {},
          "execution_count": 2
        }
      ]
    },
    {
      "cell_type": "markdown",
      "source": [
        "# Intersection Opeartion - return common items"
      ],
      "metadata": {
        "id": "tzMEqJG6YQ4j"
      }
    },
    {
      "cell_type": "code",
      "source": [
        "planets.intersection(stars)"
      ],
      "metadata": {
        "colab": {
          "base_uri": "https://localhost:8080/"
        },
        "id": "4PX0RDlbYpWS",
        "outputId": "695105b0-8379-4404-be03-207436df0a29"
      },
      "execution_count": 3,
      "outputs": [
        {
          "output_type": "execute_result",
          "data": {
            "text/plain": [
              "{'earth', 'uranus', 'venus'}"
            ]
          },
          "metadata": {},
          "execution_count": 3
        }
      ]
    },
    {
      "cell_type": "markdown",
      "source": [
        "# Difference"
      ],
      "metadata": {
        "id": "SIQnXuIhY33c"
      }
    },
    {
      "cell_type": "code",
      "source": [
        "planets.difference(stars)"
      ],
      "metadata": {
        "colab": {
          "base_uri": "https://localhost:8080/"
        },
        "id": "EireRDv4YvvI",
        "outputId": "b3d87487-11c7-412f-c863-734e27b1099b"
      },
      "execution_count": 5,
      "outputs": [
        {
          "output_type": "execute_result",
          "data": {
            "text/plain": [
              "{'jupiter', 'mars', 'mercury', 'saturn'}"
            ]
          },
          "metadata": {},
          "execution_count": 5
        }
      ]
    },
    {
      "cell_type": "code",
      "source": [
        "stars.difference(planets)"
      ],
      "metadata": {
        "colab": {
          "base_uri": "https://localhost:8080/"
        },
        "id": "UHYR4kiJZGLB",
        "outputId": "bcbb2e4d-e573-4095-9268-3fc1d83c21a8"
      },
      "execution_count": 6,
      "outputs": [
        {
          "output_type": "execute_result",
          "data": {
            "text/plain": [
              "{'moon', 'stephen2-18', 'sun'}"
            ]
          },
          "metadata": {},
          "execution_count": 6
        }
      ]
    },
    {
      "cell_type": "markdown",
      "source": [
        "# Symmetric difference"
      ],
      "metadata": {
        "id": "5zJH7ZjzZmfl"
      }
    },
    {
      "cell_type": "code",
      "source": [
        "s1={1,2,3,4,5,6}\n",
        "s2={3,4,5,6,7,2}\n",
        "s1.symmetric_difference(s2)"
      ],
      "metadata": {
        "colab": {
          "base_uri": "https://localhost:8080/"
        },
        "id": "a0-YUEZKZRVQ",
        "outputId": "1167a9a4-89d3-48a7-a013-d70da65ea267"
      },
      "execution_count": 7,
      "outputs": [
        {
          "output_type": "execute_result",
          "data": {
            "text/plain": [
              "{1, 7}"
            ]
          },
          "metadata": {},
          "execution_count": 7
        }
      ]
    },
    {
      "cell_type": "code",
      "source": [
        "cricket=['england','india','pakistan','australia','netherlands','south africa']\n",
        "football=['spain','germany','england','brazil','italy','netherlands','argentina']\n",
        "\n",
        "cricket.union(football)\n",
        "#similarly list and tuple doesnt have set opeartion so to do this we have to convert into set"
      ],
      "metadata": {
        "colab": {
          "base_uri": "https://localhost:8080/",
          "height": 176
        },
        "id": "ziW_0qhVZqbg",
        "outputId": "95bfd1e0-3e44-4b7e-f8c5-d81b48ca6721"
      },
      "execution_count": 8,
      "outputs": [
        {
          "output_type": "error",
          "ename": "AttributeError",
          "evalue": "'list' object has no attribute 'union'",
          "traceback": [
            "\u001b[0;31m---------------------------------------------------------------------------\u001b[0m",
            "\u001b[0;31mAttributeError\u001b[0m                            Traceback (most recent call last)",
            "\u001b[0;32m<ipython-input-8-08fc4a47e729>\u001b[0m in \u001b[0;36m<cell line: 4>\u001b[0;34m()\u001b[0m\n\u001b[1;32m      2\u001b[0m \u001b[0mfootball\u001b[0m\u001b[0;34m=\u001b[0m\u001b[0;34m[\u001b[0m\u001b[0;34m'spain'\u001b[0m\u001b[0;34m,\u001b[0m\u001b[0;34m'germany'\u001b[0m\u001b[0;34m,\u001b[0m\u001b[0;34m'england'\u001b[0m\u001b[0;34m,\u001b[0m\u001b[0;34m'brazil'\u001b[0m\u001b[0;34m,\u001b[0m\u001b[0;34m'italy'\u001b[0m\u001b[0;34m,\u001b[0m\u001b[0;34m'netherlands'\u001b[0m\u001b[0;34m,\u001b[0m\u001b[0;34m'argentina'\u001b[0m\u001b[0;34m]\u001b[0m\u001b[0;34m\u001b[0m\u001b[0;34m\u001b[0m\u001b[0m\n\u001b[1;32m      3\u001b[0m \u001b[0;34m\u001b[0m\u001b[0m\n\u001b[0;32m----> 4\u001b[0;31m \u001b[0mcricket\u001b[0m\u001b[0;34m.\u001b[0m\u001b[0munion\u001b[0m\u001b[0;34m(\u001b[0m\u001b[0mfootball\u001b[0m\u001b[0;34m)\u001b[0m\u001b[0;34m\u001b[0m\u001b[0;34m\u001b[0m\u001b[0m\n\u001b[0m",
            "\u001b[0;31mAttributeError\u001b[0m: 'list' object has no attribute 'union'"
          ]
        }
      ]
    },
    {
      "cell_type": "code",
      "source": [
        "list(set(cricket).intersection(football))\n"
      ],
      "metadata": {
        "colab": {
          "base_uri": "https://localhost:8080/"
        },
        "id": "pYDDuq9scIMv",
        "outputId": "ac20e3a4-e543-45f6-8073-34d722811140"
      },
      "execution_count": 10,
      "outputs": [
        {
          "output_type": "execute_result",
          "data": {
            "text/plain": [
              "['netherlands', 'england']"
            ]
          },
          "metadata": {},
          "execution_count": 10
        }
      ]
    },
    {
      "cell_type": "code",
      "source": [
        "#countries who plays only cricket\n",
        "list(set(cricket).difference(football))"
      ],
      "metadata": {
        "colab": {
          "base_uri": "https://localhost:8080/"
        },
        "id": "rH-fGTBYcVIX",
        "outputId": "bcdeb784-1057-4312-ae45-0f111f438587"
      },
      "execution_count": 11,
      "outputs": [
        {
          "output_type": "execute_result",
          "data": {
            "text/plain": [
              "['pakistan', 'australia', 'india', 'south africa']"
            ]
          },
          "metadata": {},
          "execution_count": 11
        }
      ]
    },
    {
      "cell_type": "code",
      "source": [
        "# countries who plays only football\n",
        "list(set(football).difference(cricket))"
      ],
      "metadata": {
        "colab": {
          "base_uri": "https://localhost:8080/"
        },
        "id": "FVcV349zcq8Q",
        "outputId": "94d8bc29-1c3e-4621-cba1-557a124abeb1"
      },
      "execution_count": 12,
      "outputs": [
        {
          "output_type": "execute_result",
          "data": {
            "text/plain": [
              "['germany', 'italy', 'brazil', 'argentina', 'spain']"
            ]
          },
          "metadata": {},
          "execution_count": 12
        }
      ]
    },
    {
      "cell_type": "code",
      "source": [
        "#pure football and pure cricket countires\n",
        "list(set(cricket).symmetric_difference(football))"
      ],
      "metadata": {
        "colab": {
          "base_uri": "https://localhost:8080/"
        },
        "id": "P8ssAZOpc39B",
        "outputId": "1452b987-2e00-4569-954e-6132c59f6a41"
      },
      "execution_count": 13,
      "outputs": [
        {
          "output_type": "execute_result",
          "data": {
            "text/plain": [
              "['germany',\n",
              " 'australia',\n",
              " 'india',\n",
              " 'south africa',\n",
              " 'pakistan',\n",
              " 'italy',\n",
              " 'brazil',\n",
              " 'argentina',\n",
              " 'spain']"
            ]
          },
          "metadata": {},
          "execution_count": 13
        }
      ]
    },
    {
      "cell_type": "markdown",
      "source": [
        "# Subset and Superset"
      ],
      "metadata": {
        "id": "r9bthGMhdWaU"
      }
    },
    {
      "cell_type": "code",
      "source": [
        "a={1,2,3,4,5}\n",
        "b={1,2}\n",
        "b.issubset(a)"
      ],
      "metadata": {
        "colab": {
          "base_uri": "https://localhost:8080/"
        },
        "id": "lrhkLJo0dVHh",
        "outputId": "d2d3bd1d-5c5e-4e6d-c39b-f4e7c4c9ab6f"
      },
      "execution_count": 15,
      "outputs": [
        {
          "output_type": "execute_result",
          "data": {
            "text/plain": [
              "True"
            ]
          },
          "metadata": {},
          "execution_count": 15
        }
      ]
    },
    {
      "cell_type": "code",
      "source": [
        "a.issubset(b)\n"
      ],
      "metadata": {
        "colab": {
          "base_uri": "https://localhost:8080/"
        },
        "id": "BdgBZS9Hdtqh",
        "outputId": "07ab794e-7dec-4696-fdbe-f95461ca737b"
      },
      "execution_count": 16,
      "outputs": [
        {
          "output_type": "execute_result",
          "data": {
            "text/plain": [
              "False"
            ]
          },
          "metadata": {},
          "execution_count": 16
        }
      ]
    },
    {
      "cell_type": "code",
      "source": [
        "a.issuperset(b)"
      ],
      "metadata": {
        "colab": {
          "base_uri": "https://localhost:8080/"
        },
        "id": "j33gfeeIdu_-",
        "outputId": "b50ade21-3bcc-4297-c22f-88eb9f758f98"
      },
      "execution_count": 17,
      "outputs": [
        {
          "output_type": "execute_result",
          "data": {
            "text/plain": [
              "True"
            ]
          },
          "metadata": {},
          "execution_count": 17
        }
      ]
    },
    {
      "cell_type": "code",
      "source": [
        "b.issuperset(a)"
      ],
      "metadata": {
        "colab": {
          "base_uri": "https://localhost:8080/"
        },
        "id": "NPVG0R3xdzFd",
        "outputId": "e7190926-be56-42b3-946b-4fc8a30ed5a3"
      },
      "execution_count": 18,
      "outputs": [
        {
          "output_type": "execute_result",
          "data": {
            "text/plain": [
              "False"
            ]
          },
          "metadata": {},
          "execution_count": 18
        }
      ]
    },
    {
      "cell_type": "code",
      "source": [
        "p={2,3,8,7}\n",
        "q={8,6,0}\n",
        "p.isdisjoint(q)"
      ],
      "metadata": {
        "colab": {
          "base_uri": "https://localhost:8080/"
        },
        "id": "o7Ohvgokd3RB",
        "outputId": "29360ed4-e99b-427e-e1f2-41bb599538ac"
      },
      "execution_count": 21,
      "outputs": [
        {
          "output_type": "execute_result",
          "data": {
            "text/plain": [
              "False"
            ]
          },
          "metadata": {},
          "execution_count": 21
        }
      ]
    }
  ]
}