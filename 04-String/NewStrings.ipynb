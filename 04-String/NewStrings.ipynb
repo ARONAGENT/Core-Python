{
  "nbformat": 4,
  "nbformat_minor": 0,
  "metadata": {
    "colab": {
      "provenance": []
    },
    "kernelspec": {
      "name": "python3",
      "display_name": "Python 3"
    },
    "language_info": {
      "name": "python"
    }
  },
  "cells": [
    {
      "cell_type": "markdown",
      "source": [
        "# String\n",
        "**In Python, strings are used for representing textual data. A string is a sequence of characters enclosed in either single quotes ('') or double quotes (“”). The Python language provides various built-in methods and functionalities to work with strings efficiently.Some are as below**\n",
        "\n",
        "**len()**: Returns the length of the string.\n",
        "\n",
        "**min()**: Returns the smallest character (based on ASCII value) in the string.\n",
        "\n",
        "**max()**: Returns the largest character (based on ASCII value) in the string.\n",
        "\n",
        "**upper()**: Converts all characters to uppercase.\n",
        "\n",
        "**lower()**: Converts all characters to lowercase.\n",
        "\n",
        "**capitalize()**: Capitalizes the first character of the string.\n",
        "\n",
        "**title()**: Converts the first character of each word to uppercase.\n",
        "\n",
        "**swapcase()**: Swaps the case of each character (upper to lower and vice versa).\n",
        "\n",
        "**isupper()**: Returns True if all characters are uppercase.\n",
        "\n",
        "**islower()**: Returns True if all characters are lowercase.\n",
        "\n",
        "**isnumeric()**: Returns True if the string contains only numeric characters.\n",
        "\n",
        "**isalpha()**: Returns True if the string contains only alphabetic characters.\n",
        "\n",
        "**isalnum()**: Returns True if the string contains only alphabetic and numeric\n",
        "characters.\n",
        "\n",
        "**startswith()**: Returns True if the string starts with the specified substring.\n",
        "\n",
        "**endswith()**: Returns True if the string ends with the specified substring.\n",
        "\n",
        "**center()**: Centers the string, padding it with a specified character.\n",
        "\n",
        "**join()**: Concatenates an iterable (list, tuple, etc.) into a string, separated by the string it's called on.\n",
        "\n",
        "**ljust()**: Left-aligns the string, padding it with a specified character.\n",
        "\n",
        "**rjust()**: Right-aligns the string, padding it with a specified character.\n",
        "\n",
        "**strip()**: Removes leading and trailing whitespace or specified characters.\n",
        "\n",
        "**lstrip()**: Removes leading whitespace or specified characters.\n",
        "\n",
        "**rstrip()**: Removes trailing whitespace or specified characters.\n",
        "\n",
        "**str.maketrans()**: Returns a mapping table used for character replacements in a string.\n",
        "\n",
        "**translate()**: Replaces characters in a string according to the provided translation table.\n",
        "\n",
        "**replace()**: Replaces occurrences of a substring with another substring.\n",
        "\n",
        "**sorted()**: Returns a sorted list of the characters in the string"
      ],
      "metadata": {
        "id": "ixpUVa3Zxlvx"
      }
    },
    {
      "cell_type": "code",
      "execution_count": 1,
      "metadata": {
        "colab": {
          "base_uri": "https://localhost:8080/"
        },
        "id": "s8dpiAdkpzvq",
        "outputId": "ca9171c4-773b-451a-8a15-c639095e5d66"
      },
      "outputs": [
        {
          "output_type": "stream",
          "name": "stdout",
          "text": [
            "['rohan', 'aman', 'om', 'bhushan']\n"
          ]
        }
      ],
      "source": [
        "ls=['rohan','aman','om','bhushan']\n",
        "print(ls)"
      ]
    },
    {
      "cell_type": "code",
      "source": [
        "max(ls)"
      ],
      "metadata": {
        "colab": {
          "base_uri": "https://localhost:8080/",
          "height": 35
        },
        "id": "OIw28NJKq4dd",
        "outputId": "418355fe-680b-43ad-effc-3e41173ed59c"
      },
      "execution_count": 4,
      "outputs": [
        {
          "output_type": "execute_result",
          "data": {
            "text/plain": [
              "'rohan'"
            ],
            "application/vnd.google.colaboratory.intrinsic+json": {
              "type": "string"
            }
          },
          "metadata": {},
          "execution_count": 4
        }
      ]
    },
    {
      "cell_type": "code",
      "source": [
        "len(ls)"
      ],
      "metadata": {
        "colab": {
          "base_uri": "https://localhost:8080/"
        },
        "id": "29pu5wo5qzo-",
        "outputId": "dde24cc3-648b-45c1-88d8-1611710e6248"
      },
      "execution_count": 2,
      "outputs": [
        {
          "output_type": "execute_result",
          "data": {
            "text/plain": [
              "4"
            ]
          },
          "metadata": {},
          "execution_count": 2
        }
      ]
    },
    {
      "cell_type": "code",
      "source": [
        "min(ls)"
      ],
      "metadata": {
        "colab": {
          "base_uri": "https://localhost:8080/",
          "height": 35
        },
        "id": "7UInPJgJq19t",
        "outputId": "995007fd-bd89-48dd-b440-ebd13f8af440"
      },
      "execution_count": 3,
      "outputs": [
        {
          "output_type": "execute_result",
          "data": {
            "text/plain": [
              "'aman'"
            ],
            "application/vnd.google.colaboratory.intrinsic+json": {
              "type": "string"
            }
          },
          "metadata": {},
          "execution_count": 3
        }
      ]
    },
    {
      "cell_type": "markdown",
      "source": [],
      "metadata": {
        "id": "rBjlAnukxcNW"
      }
    },
    {
      "cell_type": "code",
      "source": [
        "word='I aM roHan uke'\n",
        "word.lower()\n"
      ],
      "metadata": {
        "colab": {
          "base_uri": "https://localhost:8080/",
          "height": 35
        },
        "id": "tiA6YRXlq7x1",
        "outputId": "06580189-e42c-4946-a60f-0354e7ede5e5"
      },
      "execution_count": 6,
      "outputs": [
        {
          "output_type": "execute_result",
          "data": {
            "text/plain": [
              "'i Am ROhAN UKE'"
            ],
            "application/vnd.google.colaboratory.intrinsic+json": {
              "type": "string"
            }
          },
          "metadata": {},
          "execution_count": 6
        }
      ]
    },
    {
      "cell_type": "code",
      "source": [
        "word.upper()\n"
      ],
      "metadata": {
        "colab": {
          "base_uri": "https://localhost:8080/",
          "height": 35
        },
        "id": "MkJ7w19Zrg8k",
        "outputId": "fc0842f0-cf90-4c6b-e349-08e6cbc1de57"
      },
      "execution_count": 7,
      "outputs": [
        {
          "output_type": "execute_result",
          "data": {
            "text/plain": [
              "'I AM ROHAN UKE'"
            ],
            "application/vnd.google.colaboratory.intrinsic+json": {
              "type": "string"
            }
          },
          "metadata": {},
          "execution_count": 7
        }
      ]
    },
    {
      "cell_type": "code",
      "source": [
        "word.capitalize()\n"
      ],
      "metadata": {
        "colab": {
          "base_uri": "https://localhost:8080/",
          "height": 35
        },
        "id": "6KWp5h4pri3I",
        "outputId": "bd8019f4-23d2-4855-9335-b2076e020370"
      },
      "execution_count": 8,
      "outputs": [
        {
          "output_type": "execute_result",
          "data": {
            "text/plain": [
              "'I am rohan uke'"
            ],
            "application/vnd.google.colaboratory.intrinsic+json": {
              "type": "string"
            }
          },
          "metadata": {},
          "execution_count": 8
        }
      ]
    },
    {
      "cell_type": "code",
      "source": [
        "word.title()\n"
      ],
      "metadata": {
        "colab": {
          "base_uri": "https://localhost:8080/",
          "height": 35
        },
        "id": "Zj-KZ5FwrlQZ",
        "outputId": "9dd4a911-f222-4d5a-b495-0a38a8740b51"
      },
      "execution_count": 9,
      "outputs": [
        {
          "output_type": "execute_result",
          "data": {
            "text/plain": [
              "'I Am Rohan Uke'"
            ],
            "application/vnd.google.colaboratory.intrinsic+json": {
              "type": "string"
            }
          },
          "metadata": {},
          "execution_count": 9
        }
      ]
    },
    {
      "cell_type": "code",
      "source": [
        "word.swapcase()"
      ],
      "metadata": {
        "colab": {
          "base_uri": "https://localhost:8080/",
          "height": 35
        },
        "id": "ybUjw8cOroKL",
        "outputId": "2ba83535-f3e5-454a-f3ac-2f2366804c07"
      },
      "execution_count": 10,
      "outputs": [
        {
          "output_type": "execute_result",
          "data": {
            "text/plain": [
              "'i Am ROhAN UKE'"
            ],
            "application/vnd.google.colaboratory.intrinsic+json": {
              "type": "string"
            }
          },
          "metadata": {},
          "execution_count": 10
        }
      ]
    },
    {
      "cell_type": "code",
      "source": [
        "newword='rohan'\n",
        "newword.isupper()"
      ],
      "metadata": {
        "colab": {
          "base_uri": "https://localhost:8080/"
        },
        "id": "ZRjQarA6r0P5",
        "outputId": "2e2ec23c-650c-4c78-8794-5d99695365d8"
      },
      "execution_count": 11,
      "outputs": [
        {
          "output_type": "execute_result",
          "data": {
            "text/plain": [
              "False"
            ]
          },
          "metadata": {},
          "execution_count": 11
        }
      ]
    },
    {
      "cell_type": "code",
      "source": [
        "newword.islower()"
      ],
      "metadata": {
        "colab": {
          "base_uri": "https://localhost:8080/"
        },
        "id": "nEqWcg6fr9U7",
        "outputId": "9a9be55d-b017-4031-ba45-8fa717c0ede7"
      },
      "execution_count": 12,
      "outputs": [
        {
          "output_type": "execute_result",
          "data": {
            "text/plain": [
              "True"
            ]
          },
          "metadata": {},
          "execution_count": 12
        }
      ]
    },
    {
      "cell_type": "code",
      "source": [
        "newword.isnumeric()"
      ],
      "metadata": {
        "colab": {
          "base_uri": "https://localhost:8080/"
        },
        "id": "bc9MqRmPsA9Q",
        "outputId": "cffc5a0d-3657-463e-8907-2bfd03cc1a0c"
      },
      "execution_count": 18,
      "outputs": [
        {
          "output_type": "execute_result",
          "data": {
            "text/plain": [
              "False"
            ]
          },
          "metadata": {},
          "execution_count": 18
        }
      ]
    },
    {
      "cell_type": "code",
      "source": [
        "num=1\n",
        "num1=rohan\n",
        "num2='12rohan'\n",
        "num2.isalnum()"
      ],
      "metadata": {
        "colab": {
          "base_uri": "https://localhost:8080/"
        },
        "id": "kc7RoLVmsJbP",
        "outputId": "fb57af19-f01c-48e7-e4b9-195bc06273e2"
      },
      "execution_count": 22,
      "outputs": [
        {
          "output_type": "execute_result",
          "data": {
            "text/plain": [
              "True"
            ]
          },
          "metadata": {},
          "execution_count": 22
        }
      ]
    },
    {
      "cell_type": "code",
      "source": [
        "num.isalpha()"
      ],
      "metadata": {
        "colab": {
          "base_uri": "https://localhost:8080/",
          "height": 141
        },
        "id": "rLlbb3mpsPNy",
        "outputId": "20633e9f-f272-46fd-bdb3-a22dbed190ed"
      },
      "execution_count": 26,
      "outputs": [
        {
          "output_type": "error",
          "ename": "AttributeError",
          "evalue": "'int' object has no attribute 'isalpha'",
          "traceback": [
            "\u001b[0;31m---------------------------------------------------------------------------\u001b[0m",
            "\u001b[0;31mAttributeError\u001b[0m                            Traceback (most recent call last)",
            "\u001b[0;32m<ipython-input-26-d3f534b46234>\u001b[0m in \u001b[0;36m<cell line: 1>\u001b[0;34m()\u001b[0m\n\u001b[0;32m----> 1\u001b[0;31m \u001b[0mnum\u001b[0m\u001b[0;34m.\u001b[0m\u001b[0misalpha\u001b[0m\u001b[0;34m(\u001b[0m\u001b[0;34m)\u001b[0m\u001b[0;34m\u001b[0m\u001b[0;34m\u001b[0m\u001b[0m\n\u001b[0m",
            "\u001b[0;31mAttributeError\u001b[0m: 'int' object has no attribute 'isalpha'"
          ]
        }
      ]
    },
    {
      "cell_type": "code",
      "source": [
        "num1.isalpha()"
      ],
      "metadata": {
        "colab": {
          "base_uri": "https://localhost:8080/"
        },
        "id": "wP8Er5NUs4GY",
        "outputId": "1c947e03-d3fd-46d3-b6aa-ef9762acadfb"
      },
      "execution_count": 25,
      "outputs": [
        {
          "output_type": "execute_result",
          "data": {
            "text/plain": [
              "True"
            ]
          },
          "metadata": {},
          "execution_count": 25
        }
      ]
    },
    {
      "cell_type": "code",
      "source": [
        "str1='hello i am rohan'\n",
        "str1.startswith('hello')"
      ],
      "metadata": {
        "colab": {
          "base_uri": "https://localhost:8080/"
        },
        "id": "K6_Bar5btRlK",
        "outputId": "8e531add-9366-469b-9662-ba33135e560c"
      },
      "execution_count": 27,
      "outputs": [
        {
          "output_type": "execute_result",
          "data": {
            "text/plain": [
              "True"
            ]
          },
          "metadata": {},
          "execution_count": 27
        }
      ]
    },
    {
      "cell_type": "code",
      "source": [
        "str2='hello i am a developer'\n",
        "str2.endswith('developer')"
      ],
      "metadata": {
        "colab": {
          "base_uri": "https://localhost:8080/"
        },
        "id": "b-lOxn46tf_4",
        "outputId": "0245aa69-3ec0-469f-eabb-be58379b8537"
      },
      "execution_count": 28,
      "outputs": [
        {
          "output_type": "execute_result",
          "data": {
            "text/plain": [
              "True"
            ]
          },
          "metadata": {},
          "execution_count": 28
        }
      ]
    },
    {
      "cell_type": "code",
      "source": [
        "str2.split()"
      ],
      "metadata": {
        "colab": {
          "base_uri": "https://localhost:8080/"
        },
        "id": "HcvLvRMYtqQz",
        "outputId": "cf0bd09a-9d74-422e-a54a-3b61269ed32d"
      },
      "execution_count": 29,
      "outputs": [
        {
          "output_type": "execute_result",
          "data": {
            "text/plain": [
              "['hello', 'i', 'am', 'a', 'developer']"
            ]
          },
          "metadata": {},
          "execution_count": 29
        }
      ]
    },
    {
      "cell_type": "code",
      "source": [
        "str2.center(50,'.')\n"
      ],
      "metadata": {
        "colab": {
          "base_uri": "https://localhost:8080/",
          "height": 35
        },
        "id": "SUsT1sWQtt7_",
        "outputId": "f9679570-de7d-491e-aac6-d1ac2d59e3e5"
      },
      "execution_count": 36,
      "outputs": [
        {
          "output_type": "execute_result",
          "data": {
            "text/plain": [
              "'..............hello i am a developer..............'"
            ],
            "application/vnd.google.colaboratory.intrinsic+json": {
              "type": "string"
            }
          },
          "metadata": {},
          "execution_count": 36
        }
      ]
    },
    {
      "cell_type": "code",
      "source": [
        "str2.rjust(50,'+')"
      ],
      "metadata": {
        "colab": {
          "base_uri": "https://localhost:8080/",
          "height": 35
        },
        "id": "X-jZKPkIuXzx",
        "outputId": "7dc1c565-2729-490b-c2ce-c2602dad2fd9"
      },
      "execution_count": 38,
      "outputs": [
        {
          "output_type": "execute_result",
          "data": {
            "text/plain": [
              "'++++++++++++++++++++++++++++hello i am a developer'"
            ],
            "application/vnd.google.colaboratory.intrinsic+json": {
              "type": "string"
            }
          },
          "metadata": {},
          "execution_count": 38
        }
      ]
    },
    {
      "cell_type": "code",
      "source": [
        "str2.ljust(50,'-')\n"
      ],
      "metadata": {
        "colab": {
          "base_uri": "https://localhost:8080/",
          "height": 35
        },
        "id": "TSsUXosNucni",
        "outputId": "315aee08-deac-4e5b-8169-28ac1d62caf3"
      },
      "execution_count": 39,
      "outputs": [
        {
          "output_type": "execute_result",
          "data": {
            "text/plain": [
              "'hello i am a developer----------------------------'"
            ],
            "application/vnd.google.colaboratory.intrinsic+json": {
              "type": "string"
            }
          },
          "metadata": {},
          "execution_count": 39
        }
      ]
    },
    {
      "cell_type": "code",
      "source": [
        "s=','\n",
        "s.join(['rohan','rahul','omm','yash'])"
      ],
      "metadata": {
        "colab": {
          "base_uri": "https://localhost:8080/",
          "height": 35
        },
        "id": "DDUvVGzfueAH",
        "outputId": "9e67dde1-cee8-463c-ec94-0dd7ffad3964"
      },
      "execution_count": 41,
      "outputs": [
        {
          "output_type": "execute_result",
          "data": {
            "text/plain": [
              "'rohan,rahul,omm,yash'"
            ],
            "application/vnd.google.colaboratory.intrinsic+json": {
              "type": "string"
            }
          },
          "metadata": {},
          "execution_count": 41
        }
      ]
    },
    {
      "cell_type": "code",
      "source": [
        "txt='         rohan           '\n",
        "txt.strip()"
      ],
      "metadata": {
        "colab": {
          "base_uri": "https://localhost:8080/",
          "height": 35
        },
        "id": "HtLcAj65u7DG",
        "outputId": "704559c2-341e-4298-fc50-610e24a36365"
      },
      "execution_count": 43,
      "outputs": [
        {
          "output_type": "execute_result",
          "data": {
            "text/plain": [
              "'rohan           '"
            ],
            "application/vnd.google.colaboratory.intrinsic+json": {
              "type": "string"
            }
          },
          "metadata": {},
          "execution_count": 43
        }
      ]
    },
    {
      "cell_type": "code",
      "source": [
        "txt.lstrip()"
      ],
      "metadata": {
        "colab": {
          "base_uri": "https://localhost:8080/",
          "height": 35
        },
        "id": "GyWt3m0_vLyB",
        "outputId": "58efaabe-a4d2-4ef2-9004-8011a9e9b2a2"
      },
      "execution_count": 44,
      "outputs": [
        {
          "output_type": "execute_result",
          "data": {
            "text/plain": [
              "'rohan           '"
            ],
            "application/vnd.google.colaboratory.intrinsic+json": {
              "type": "string"
            }
          },
          "metadata": {},
          "execution_count": 44
        }
      ]
    },
    {
      "cell_type": "code",
      "source": [
        "txt.rstrip()"
      ],
      "metadata": {
        "colab": {
          "base_uri": "https://localhost:8080/",
          "height": 35
        },
        "id": "CK5iPsQ0vPJ-",
        "outputId": "c997b940-a9b3-43cf-c73a-9e8a5b809fa3"
      },
      "execution_count": 45,
      "outputs": [
        {
          "output_type": "execute_result",
          "data": {
            "text/plain": [
              "'         rohan'"
            ],
            "application/vnd.google.colaboratory.intrinsic+json": {
              "type": "string"
            }
          },
          "metadata": {},
          "execution_count": 45
        }
      ]
    },
    {
      "cell_type": "code",
      "source": [
        "table=str.maketrans('abcdelinm','!@#$%^&*(')\n",
        "s='hello i am aron'\n",
        "s.translate(table)"
      ],
      "metadata": {
        "colab": {
          "base_uri": "https://localhost:8080/",
          "height": 35
        },
        "id": "gOG-0XkpvRy7",
        "outputId": "086f39f1-9e32-4773-f856-fbdeaf4215c4"
      },
      "execution_count": 46,
      "outputs": [
        {
          "output_type": "execute_result",
          "data": {
            "text/plain": [
              "'h%^^o & !( !ro*'"
            ],
            "application/vnd.google.colaboratory.intrinsic+json": {
              "type": "string"
            }
          },
          "metadata": {},
          "execution_count": 46
        }
      ]
    },
    {
      "cell_type": "code",
      "source": [
        "txt2='may be i like python'\n",
        "txt2.replace('like','love')"
      ],
      "metadata": {
        "colab": {
          "base_uri": "https://localhost:8080/",
          "height": 35
        },
        "id": "FB56vbRbvtQX",
        "outputId": "b06a8b00-61ee-462f-95fd-f006a26af945"
      },
      "execution_count": 47,
      "outputs": [
        {
          "output_type": "execute_result",
          "data": {
            "text/plain": [
              "'may be i love python'"
            ],
            "application/vnd.google.colaboratory.intrinsic+json": {
              "type": "string"
            }
          },
          "metadata": {},
          "execution_count": 47
        }
      ]
    }
  ]
}