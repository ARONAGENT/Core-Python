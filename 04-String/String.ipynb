{
  "nbformat": 4,
  "nbformat_minor": 0,
  "metadata": {
    "colab": {
      "provenance": []
    },
    "kernelspec": {
      "name": "python3",
      "display_name": "Python 3"
    },
    "language_info": {
      "name": "python"
    }
  },
  "cells": [
    {
      "cell_type": "markdown",
      "source": [
        "# String"
      ],
      "metadata": {
        "id": "XWhu3PLGaJi2"
      }
    },
    {
      "cell_type": "code",
      "execution_count": null,
      "metadata": {
        "colab": {
          "base_uri": "https://localhost:8080/"
        },
        "id": "MiNjbjt7aEgB",
        "outputId": "115812d6-42b0-48e1-a242-3de1ddeecab7"
      },
      "outputs": [
        {
          "output_type": "stream",
          "name": "stdout",
          "text": [
            "['technology', 'is', 'power', 'technology', 'is', 'future']\n"
          ]
        }
      ],
      "source": [
        "slogan=\"technology is power technology is future\"\n",
        "ls=slogan.split()\n",
        "print(ls)"
      ]
    },
    {
      "cell_type": "code",
      "source": [
        "lis=[\"bmw\",\"i10\",\"z20\",\"abz\"]\n",
        "print(min(lis))"
      ],
      "metadata": {
        "colab": {
          "base_uri": "https://localhost:8080/"
        },
        "id": "iO9TPCzbdXgP",
        "outputId": "bb153310-bc92-46bf-cbcc-4de9e420a843"
      },
      "execution_count": null,
      "outputs": [
        {
          "output_type": "stream",
          "name": "stdout",
          "text": [
            "abz\n"
          ]
        }
      ]
    },
    {
      "cell_type": "code",
      "source": [
        "nm=\"rohan\"\n",
        "print(nm.center(11,\",\"))"
      ],
      "metadata": {
        "colab": {
          "base_uri": "https://localhost:8080/"
        },
        "id": "mSGGwhV1gE_U",
        "outputId": "1ca264ab-2ab2-4ece-9cbb-ec16535cb3df"
      },
      "execution_count": null,
      "outputs": [
        {
          "output_type": "stream",
          "name": "stdout",
          "text": [
            ",,,rohan,,,\n"
          ]
        }
      ]
    },
    {
      "cell_type": "code",
      "source": [
        "nm_age=\"your name is {name} and age is {age}\"\n",
        "print(nm_age.format_map({\"name\":\"Rohan\",\"age\":18}))"
      ],
      "metadata": {
        "colab": {
          "base_uri": "https://localhost:8080/"
        },
        "id": "W3VhbQuFg9Rj",
        "outputId": "bbf86dbd-84ce-4259-fd6f-5beb70520051"
      },
      "execution_count": null,
      "outputs": [
        {
          "output_type": "stream",
          "name": "stdout",
          "text": [
            "your name is Rohan and age is 18\n"
          ]
        }
      ]
    },
    {
      "cell_type": "code",
      "source": [
        "nm=\"ethan hunt\"\n",
        "print(nm[::-1])\n",
        "txt=\"believe the unbelievable\"\n",
        "print(txt[::-1])"
      ],
      "metadata": {
        "id": "HVk0FfhPsucM",
        "colab": {
          "base_uri": "https://localhost:8080/"
        },
        "outputId": "fe0380d3-5a33-4123-d3f4-87c72b1dafed"
      },
      "execution_count": null,
      "outputs": [
        {
          "output_type": "stream",
          "name": "stdout",
          "text": [
            "ethan hun\n",
            "elbaveilebnu eht eveileb\n"
          ]
        }
      ]
    },
    {
      "cell_type": "code",
      "source": [
        "s='Rohan Uke'\n",
        "print(s[2])\n",
        "print(s[2:5])\n",
        "print(s[-1])\n",
        "print(s[::-1])\n",
        "print(s[:-1])\n",
        "print(s[2:])\n",
        "print(s[:4])"
      ],
      "metadata": {
        "colab": {
          "base_uri": "https://localhost:8080/"
        },
        "id": "y0yvEDRm34MP",
        "outputId": "4d757829-311c-4b91-bbf8-b13b5f24f819"
      },
      "execution_count": null,
      "outputs": [
        {
          "output_type": "stream",
          "name": "stdout",
          "text": [
            "h\n",
            "han\n",
            "e\n",
            "ekU nahoR\n",
            "Rohan Uk\n",
            "han Uke\n",
            "Roha\n"
          ]
        }
      ]
    }
  ]
}