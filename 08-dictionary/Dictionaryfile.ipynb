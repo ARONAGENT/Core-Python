{
  "nbformat": 4,
  "nbformat_minor": 0,
  "metadata": {
    "colab": {
      "provenance": []
    },
    "kernelspec": {
      "name": "python3",
      "display_name": "Python 3"
    },
    "language_info": {
      "name": "python"
    }
  },
  "cells": [
    {
      "cell_type": "markdown",
      "source": [
        "# Dictionaries\n",
        "1.Unordered collection of key-value pairs.\n",
        "\n",
        "2.Keys must be unique and immutable (e.g., strings, numbers), while values can be any data type.\n",
        "\n",
        "3.Mutable, allowing you to add, modify, or remove key-value pairs.\n",
        "\n",
        "4.Created using curly braces {} with key-value pairs like {\"key\": \"value\"}.\n",
        "\n",
        "5.Optimized for fast lookups using keys, making it useful for mappings or associative arrays."
      ],
      "metadata": {
        "id": "cK7Rc4SC4cTJ"
      }
    },
    {
      "cell_type": "code",
      "execution_count": null,
      "metadata": {
        "colab": {
          "base_uri": "https://localhost:8080/"
        },
        "id": "ai6xbaSPPtF8",
        "outputId": "a151f108-b888-4c91-92fe-e858d6a744bf"
      },
      "outputs": [
        {
          "output_type": "stream",
          "name": "stdout",
          "text": [
            "<class 'dict'>\n"
          ]
        }
      ],
      "source": [
        "info={'name':'rohan','age':19,'address':'sainager amt','phone no':'9307302731'}\n",
        "print(type(info))"
      ]
    },
    {
      "cell_type": "code",
      "source": [
        "print(info['name'])\n"
      ],
      "metadata": {
        "colab": {
          "base_uri": "https://localhost:8080/"
        },
        "id": "WFzJe3zUQogj",
        "outputId": "bf05b43d-1ae7-414f-b2be-bef5c56a7484"
      },
      "execution_count": null,
      "outputs": [
        {
          "output_type": "stream",
          "name": "stdout",
          "text": [
            "rohan\n"
          ]
        }
      ]
    },
    {
      "cell_type": "code",
      "source": [
        "info['emailid']='ukerohan7@gmail.com'\n",
        "print(info)"
      ],
      "metadata": {
        "colab": {
          "base_uri": "https://localhost:8080/"
        },
        "id": "9215URQYQ5pz",
        "outputId": "b645708a-5384-4948-b930-20c93511ca94"
      },
      "execution_count": null,
      "outputs": [
        {
          "output_type": "stream",
          "name": "stdout",
          "text": [
            "{'name': 'rohan', 'age': 19, 'address': 'sainager amt', 'phone no': '9307302731', 'emailid': 'ukerohan7@gmail.com'}\n"
          ]
        }
      ]
    },
    {
      "cell_type": "code",
      "source": [
        "info['name']='om'\n",
        "print(info)"
      ],
      "metadata": {
        "colab": {
          "base_uri": "https://localhost:8080/"
        },
        "id": "miUJKqivQ-q-",
        "outputId": "f7d77920-ea3b-4699-9a20-208de3cedce3"
      },
      "execution_count": null,
      "outputs": [
        {
          "output_type": "stream",
          "name": "stdout",
          "text": [
            "{'name': 'om', 'age': 19, 'address': 'sainager amt', 'phone no': '9307302731', 'emailid': 'ukerohan7@gmail.com'}\n"
          ]
        }
      ]
    },
    {
      "cell_type": "code",
      "source": [
        "acc={}\n",
        "acc['accno']='1000'\n",
        "acc['accnm']='amir khan'\n",
        "acc['acctype']='saving'\n",
        "acc['balance']=95000\n"
      ],
      "metadata": {
        "id": "b_nOJXIaRaam"
      },
      "execution_count": null,
      "outputs": []
    },
    {
      "cell_type": "code",
      "source": [
        "print(acc)"
      ],
      "metadata": {
        "colab": {
          "base_uri": "https://localhost:8080/"
        },
        "id": "F09kBu8BRxZS",
        "outputId": "548d0207-e8f4-4946-ab57-1dfbc828053a"
      },
      "execution_count": null,
      "outputs": [
        {
          "output_type": "stream",
          "name": "stdout",
          "text": [
            "{'accno': '1000', 'accnm': 'amir khan', 'acctype': 'saving', 'balance': 95000}\n"
          ]
        }
      ]
    },
    {
      "cell_type": "code",
      "source": [
        "len(acc)"
      ],
      "metadata": {
        "colab": {
          "base_uri": "https://localhost:8080/"
        },
        "id": "Hu0o8O42R2HY",
        "outputId": "0d3292d2-cd0a-41ef-b006-dbbe2c8d59a1"
      },
      "execution_count": null,
      "outputs": [
        {
          "output_type": "execute_result",
          "data": {
            "text/plain": [
              "4"
            ]
          },
          "metadata": {},
          "execution_count": 8
        }
      ]
    },
    {
      "cell_type": "code",
      "source": [
        "max(acc)"
      ],
      "metadata": {
        "colab": {
          "base_uri": "https://localhost:8080/",
          "height": 35
        },
        "id": "U3p2NBzuR5rK",
        "outputId": "4a5ef8f7-a1fb-49d8-cee5-69059421c5cc"
      },
      "execution_count": null,
      "outputs": [
        {
          "output_type": "execute_result",
          "data": {
            "text/plain": [
              "'balance'"
            ],
            "application/vnd.google.colaboratory.intrinsic+json": {
              "type": "string"
            }
          },
          "metadata": {},
          "execution_count": 9
        }
      ]
    },
    {
      "cell_type": "code",
      "source": [
        "min(acc)"
      ],
      "metadata": {
        "colab": {
          "base_uri": "https://localhost:8080/",
          "height": 35
        },
        "id": "x-TttZy5R9Dy",
        "outputId": "1046ab99-03af-45ec-a728-a081c1a96e3d"
      },
      "execution_count": null,
      "outputs": [
        {
          "output_type": "execute_result",
          "data": {
            "text/plain": [
              "'accnm'"
            ],
            "application/vnd.google.colaboratory.intrinsic+json": {
              "type": "string"
            }
          },
          "metadata": {},
          "execution_count": 10
        }
      ]
    },
    {
      "cell_type": "code",
      "source": [
        "(acc[max(acc)])"
      ],
      "metadata": {
        "colab": {
          "base_uri": "https://localhost:8080/"
        },
        "id": "hk2SAiydR_ex",
        "outputId": "093f13b3-0cb8-46e7-f0b2-3808f89388dd"
      },
      "execution_count": null,
      "outputs": [
        {
          "output_type": "execute_result",
          "data": {
            "text/plain": [
              "95000"
            ]
          },
          "metadata": {},
          "execution_count": 12
        }
      ]
    },
    {
      "cell_type": "code",
      "source": [
        "acc[min(acc)]"
      ],
      "metadata": {
        "colab": {
          "base_uri": "https://localhost:8080/",
          "height": 35
        },
        "id": "6nUS_ettSSIg",
        "outputId": "77f8e7bc-ad97-4440-c370-04bdd0975af6"
      },
      "execution_count": null,
      "outputs": [
        {
          "output_type": "execute_result",
          "data": {
            "text/plain": [
              "'amir khan'"
            ],
            "application/vnd.google.colaboratory.intrinsic+json": {
              "type": "string"
            }
          },
          "metadata": {},
          "execution_count": 13
        }
      ]
    },
    {
      "cell_type": "code",
      "source": [
        "print(acc.keys())"
      ],
      "metadata": {
        "colab": {
          "base_uri": "https://localhost:8080/"
        },
        "id": "-n7TrQZdSYjI",
        "outputId": "e6b4053a-10bd-4871-8ede-9fee171e4acb"
      },
      "execution_count": null,
      "outputs": [
        {
          "output_type": "stream",
          "name": "stdout",
          "text": [
            "dict_keys(['accno', 'accnm', 'acctype', 'balance'])\n"
          ]
        }
      ]
    },
    {
      "cell_type": "code",
      "source": [
        "for keys in acc.keys():\n",
        "  print(keys)"
      ],
      "metadata": {
        "colab": {
          "base_uri": "https://localhost:8080/"
        },
        "id": "b_aiIxIHS5Vw",
        "outputId": "d1278533-f8df-461d-a556-d34ae129c3b4"
      },
      "execution_count": null,
      "outputs": [
        {
          "output_type": "stream",
          "name": "stdout",
          "text": [
            "accno\n",
            "accnm\n",
            "acctype\n",
            "balance\n"
          ]
        }
      ]
    },
    {
      "cell_type": "code",
      "source": [
        "print(acc.values())"
      ],
      "metadata": {
        "colab": {
          "base_uri": "https://localhost:8080/"
        },
        "id": "EhtvB3NuStTZ",
        "outputId": "28c35b40-0c46-4a48-88a8-feff3a0476f9"
      },
      "execution_count": null,
      "outputs": [
        {
          "output_type": "stream",
          "name": "stdout",
          "text": [
            "dict_values(['1000', 'amir khan', 'saving', 95000])\n"
          ]
        }
      ]
    },
    {
      "cell_type": "code",
      "source": [
        "for value in acc.values():\n",
        "  print(value)"
      ],
      "metadata": {
        "colab": {
          "base_uri": "https://localhost:8080/"
        },
        "id": "tth5oA36TBN5",
        "outputId": "170de027-7c17-44e1-dc71-661d011f5106"
      },
      "execution_count": null,
      "outputs": [
        {
          "output_type": "stream",
          "name": "stdout",
          "text": [
            "1000\n",
            "amir khan\n",
            "saving\n",
            "95000\n"
          ]
        }
      ]
    },
    {
      "cell_type": "code",
      "source": [
        "print(acc.items())"
      ],
      "metadata": {
        "colab": {
          "base_uri": "https://localhost:8080/"
        },
        "id": "cwE8tTQkSxTI",
        "outputId": "e352df8c-1513-426b-e982-09857f7f991b"
      },
      "execution_count": null,
      "outputs": [
        {
          "output_type": "stream",
          "name": "stdout",
          "text": [
            "dict_items([('accno', '1000'), ('accnm', 'amir khan'), ('acctype', 'saving'), ('balance', 95000)])\n"
          ]
        }
      ]
    },
    {
      "cell_type": "code",
      "source": [
        "for items in acc.items():\n",
        "  print(items)"
      ],
      "metadata": {
        "colab": {
          "base_uri": "https://localhost:8080/"
        },
        "id": "j7D2_yB8TJhp",
        "outputId": "ef7a0427-da69-4c12-9ad2-2f3822a87067"
      },
      "execution_count": null,
      "outputs": [
        {
          "output_type": "stream",
          "name": "stdout",
          "text": [
            "('accno', '1000')\n",
            "('accnm', 'amir khan')\n",
            "('acctype', 'saving')\n",
            "('balance', 95000)\n"
          ]
        }
      ]
    },
    {
      "cell_type": "code",
      "source": [
        "newdic={}.fromkeys(['rohan','rahul','om'],1)\n",
        "print(newdic)"
      ],
      "metadata": {
        "colab": {
          "base_uri": "https://localhost:8080/"
        },
        "id": "ON9bmL0QTPgB",
        "outputId": "75dfab5c-a727-4c61-f9fc-11ab0161b8a1"
      },
      "execution_count": null,
      "outputs": [
        {
          "output_type": "stream",
          "name": "stdout",
          "text": [
            "{'rohan': 1, 'rahul': 1, 'om': 1}\n"
          ]
        }
      ]
    },
    {
      "cell_type": "code",
      "source": [
        "newdic['rohan']+=10\n",
        "print(newdic)"
      ],
      "metadata": {
        "colab": {
          "base_uri": "https://localhost:8080/"
        },
        "id": "ea3Y3GVDW06p",
        "outputId": "a5ddb2fe-5135-442e-b81b-186a10b806d1"
      },
      "execution_count": null,
      "outputs": [
        {
          "output_type": "stream",
          "name": "stdout",
          "text": [
            "{'rohan': 11, 'rahul': 1, 'om': 1}\n"
          ]
        }
      ]
    },
    {
      "cell_type": "code",
      "source": [
        "lst=['python','java','html']\n",
        "msg=None\n",
        "newlst={}\n",
        "while(msg=='no'):\n",
        "  msg=input('do you want to add items yes/no ')\n",
        "  if lst in newlst:\n",
        "    newlst[lst]=+1\n",
        "  else:\n",
        "    newlst[lst]=1\n"
      ],
      "metadata": {
        "id": "EXJS8kI-W8iS"
      },
      "execution_count": null,
      "outputs": []
    },
    {
      "cell_type": "markdown",
      "source": [],
      "metadata": {
        "id": "HVgsGdu_aJOr"
      }
    },
    {
      "cell_type": "code",
      "source": [
        "dir={'python':1,'java':1,'html':1}\n",
        "msg=None\n",
        "while(msg!='no'):\n",
        "  msg=input('enter a word ')\n",
        "  if(msg!='no'):\n",
        "     if msg in dir:\n",
        "      dir[msg]+=1\n",
        "     else:\n",
        "      dir[msg]=1\n",
        "\n",
        "print(dir)"
      ],
      "metadata": {
        "colab": {
          "base_uri": "https://localhost:8080/"
        },
        "id": "7x1pEuYCXuT2",
        "outputId": "dac2e502-3430-431c-9007-e503fcd24932"
      },
      "execution_count": null,
      "outputs": [
        {
          "output_type": "stream",
          "name": "stdout",
          "text": [
            "do you want to add items yes/no python\n",
            "do you want to add items yes/no java\n",
            "do you want to add items yes/no html\n",
            "do you want to add items yes/no html\n",
            "do you want to add items yes/no no\n",
            "{'python': 2, 'java': 2, 'html': 3}\n"
          ]
        }
      ]
    },
    {
      "cell_type": "code",
      "source": [
        "lst='india plays cricket and india plays football and india plays both'\n",
        "words=lst.split()\n",
        "dic={}\n",
        "for w in words:\n",
        "  dic[w]=dic.get(w,0)+1\n",
        "\n",
        "print(dic)"
      ],
      "metadata": {
        "colab": {
          "base_uri": "https://localhost:8080/"
        },
        "id": "M5qMNR6z5ot2",
        "outputId": "43df7482-9130-4636-b074-849f706b9cdd"
      },
      "execution_count": null,
      "outputs": [
        {
          "output_type": "stream",
          "name": "stdout",
          "text": [
            "{'india': 3, 'plays': 3, 'cricket': 1, 'and': 2, 'football': 1, 'both': 1}\n"
          ]
        }
      ]
    },
    {
      "cell_type": "code",
      "source": [
        "dic2={\n",
        "    'name':['rohan','rahul','Om','makode'],\n",
        "    'age':[18,19,20,21],\n",
        "    'gender':['male','female','male','gay'],\n",
        "    'isjob':['no','yes','yes','no'],\n",
        "    'emailID':['r1@gmail.com','r2@gmail.com','o1@gmail.com','a1@gmail.com'],\n",
        "    'codname':['aron','raahhaha','ommmmmm','kodema']\n",
        "}\n",
        "print(dic2)"
      ],
      "metadata": {
        "colab": {
          "base_uri": "https://localhost:8080/"
        },
        "id": "_T5FrbC_6vA2",
        "outputId": "f8020894-e4d7-47dd-e039-a26dca44cce3"
      },
      "execution_count": null,
      "outputs": [
        {
          "output_type": "stream",
          "name": "stdout",
          "text": [
            "{'name': ['rohan', 'rahul', 'Om', 'makode'], 'age': [18, 19, 20, 21], 'gender': ['male', 'female', 'male', 'gay'], 'isjob': ['no', 'yes', 'yes', 'no'], 'emailID': ['r1@gmail.com', 'r2@gmail.com', 'o1@gmail.com', 'a1@gmail.com'], 'codname': ['aron', 'raahhaha', 'ommmmmm', 'kodema']}\n"
          ]
        }
      ]
    },
    {
      "cell_type": "code",
      "source": [
        "print(dic2['name'][1])"
      ],
      "metadata": {
        "colab": {
          "base_uri": "https://localhost:8080/"
        },
        "id": "FeLQiapf8IBZ",
        "outputId": "bdce55e6-40c3-4c15-a196-5acea623a931"
      },
      "execution_count": null,
      "outputs": [
        {
          "output_type": "stream",
          "name": "stdout",
          "text": [
            "rahul\n"
          ]
        }
      ]
    },
    {
      "cell_type": "code",
      "source": [
        "print(dic2['emailID'][0])"
      ],
      "metadata": {
        "colab": {
          "base_uri": "https://localhost:8080/"
        },
        "id": "2ca8igL88SCB",
        "outputId": "991dd914-6d20-4c02-92be-0652b2de33d3"
      },
      "execution_count": null,
      "outputs": [
        {
          "output_type": "stream",
          "name": "stdout",
          "text": [
            "r1@gmail.com\n"
          ]
        }
      ]
    },
    {
      "cell_type": "code",
      "source": [
        "documents={\n",
        "    \"doc1\":\"cricket is a popular sport\",\n",
        "    \"doc2\":\"formula-1 racing is also a popular sport\",\n",
        "    \"doc3\":\"cricket and formula-1 are both popular\"\n",
        "}\n",
        "index={}\n",
        "for key,value in documents.items():\n",
        "  words=value.split()\n",
        "  for word in words:\n",
        "    if word in words:\n",
        "     index[word].add(key)\n",
        "    else:\n",
        "     index[word]={key}\n",
        "print(index)\n"
      ],
      "metadata": {
        "colab": {
          "base_uri": "https://localhost:8080/"
        },
        "id": "VQrG3wBF-Evk",
        "outputId": "6a752eca-d69e-45ab-af50-3ac659464ab8"
      },
      "execution_count": null,
      "outputs": [
        {
          "output_type": "stream",
          "name": "stdout",
          "text": [
            "{'cricket': {'doc1', 'doc3'}, 'is': {'doc1', 'doc2'}, 'a': {'doc1', 'doc2'}, 'popular': {'doc1', 'doc3', 'doc2'}, 'sport': {'doc1', 'doc2'}, 'formula-1': {'doc3', 'doc2'}, 'racing': {'doc2'}, 'also': {'doc2'}, 'and': {'doc3'}, 'are': {'doc3'}, 'both': {'doc3'}}\n"
          ]
        }
      ]
    },
    {
      "cell_type": "code",
      "source": [
        "player={\n",
        "    'name':'mohammed salah',\n",
        "    'personal':{\n",
        "        'age':29,\n",
        "        'gender':'male',\n",
        "        'country':'egypt'\n",
        "    },\n",
        "    'professional':{\n",
        "        'position':'midfielder',\n",
        "        'club':'liverpool',\n",
        "        'jersey':11\n",
        "    },\n",
        "    'health':{\n",
        "        'height':175,\n",
        "        'weight':88\n",
        "    }\n",
        "}"
      ],
      "metadata": {
        "id": "L2HQbUToPe-_"
      },
      "execution_count": null,
      "outputs": []
    },
    {
      "cell_type": "code",
      "source": [
        "print(player['personal']['age'])"
      ],
      "metadata": {
        "colab": {
          "base_uri": "https://localhost:8080/"
        },
        "id": "rhx_ZBs3Ppis",
        "outputId": "c58c62dc-d26f-4fe2-eaa5-e0f128f0f0e0"
      },
      "execution_count": null,
      "outputs": [
        {
          "output_type": "stream",
          "name": "stdout",
          "text": [
            "29\n"
          ]
        }
      ]
    },
    {
      "cell_type": "code",
      "source": [
        "dictionary={\n",
        "    (1,2):'rohan',\n",
        "    (3,4):'rahul',\n",
        "    (4,5):'om',\n",
        "    (10,11):'ayush'\n",
        "}\n"
      ],
      "metadata": {
        "id": "BFgLEjmuQW65"
      },
      "execution_count": null,
      "outputs": []
    },
    {
      "cell_type": "code",
      "source": [
        "print(dictionary[(1,2)])"
      ],
      "metadata": {
        "colab": {
          "base_uri": "https://localhost:8080/"
        },
        "id": "yF762MgEQoYS",
        "outputId": "d5b689ff-622d-408c-b5e7-69cc4ace5703"
      },
      "execution_count": null,
      "outputs": [
        {
          "output_type": "stream",
          "name": "stdout",
          "text": [
            "rohan\n"
          ]
        }
      ]
    }
  ]
}